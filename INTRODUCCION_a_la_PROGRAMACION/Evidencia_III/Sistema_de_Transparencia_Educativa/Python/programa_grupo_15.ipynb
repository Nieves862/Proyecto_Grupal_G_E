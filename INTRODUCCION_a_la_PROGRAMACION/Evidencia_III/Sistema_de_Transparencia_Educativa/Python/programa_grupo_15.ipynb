{
 "cells": [
  {
   "attachments": {},
   "cell_type": "markdown",
   "metadata": {},
   "source": [
    "## Conectarme a sql"
   ]
  },
  {
   "cell_type": "code",
   "execution_count": 1,
   "metadata": {},
   "outputs": [],
   "source": [
    "import mysql.connector"
   ]
  },
  {
   "cell_type": "code",
   "execution_count": 2,
   "metadata": {},
   "outputs": [],
   "source": [
    "def get_db_connection():\n",
    "    connection = mysql.connector.connect(\n",
    "        host='localhost',    # Cambia esto si tu base de datos no está en el mismo servidor\n",
    "        user='root',   # Cambia esto por tu usuario de MySQL\n",
    "        password='****', # Cambia esto por tu contraseña de MySQL\n",
    "        database='ispc_g15b' # Nombre de tu base de datos\n",
    "    )\n",
    "    return connection"
   ]
  },
  {
   "cell_type": "markdown",
   "metadata": {},
   "source": [
    "Menu principal"
   ]
  },
  {
   "cell_type": "code",
   "execution_count": null,
   "metadata": {},
   "outputs": [],
   "source": [
    "from gestionar_estudiantes import gestionar_estudiantes\n",
    "from gestionar_materias import gestionar_materias\n",
    "from gestionar_calificaciones import gestionar_calificaciones\n",
    "from gestionar_asistencia import gestionar_asistencia\n",
    "from realizar_consultas import realizar_consultas\n",
    "import sys\n",
    "\n",
    "def mostrar_menu():\n",
    "    print(\"Bienvenido al software de gestión de estudiantes\")\n",
    "    print(\"\")\n",
    "    print(\"1. Gestionar estudiantes\")\n",
    "    print(\"2. Gestionar materias\")\n",
    "    print(\"3. Gestionar calificaciones\")\n",
    "    print(\"4. Gestionar asistencia\")\n",
    "    print(\"5. Realizar consultas\")\n",
    "    print(\"6. Salir\")\n",
    "    print(\"\")\n",
    "    print(\"Por favor, elija la opción deseada:\")\n",
    "\n",
    "def obtener_opcion():\n",
    "    while True:\n",
    "        try:\n",
    "            opcion = int(input())\n",
    "            if 1 <= opcion <= 6:\n",
    "                return opcion\n",
    "            else:\n",
    "                print(\"Opción inválida. Ingrese un número entre 1 y 6:\")\n",
    "        except ValueError:\n",
    "            print(\"Por favor, ingrese una opción válida (número entero).\")\n",
    "\n",
    "def ejecutar_opcion(opcion):\n",
    "    if opcion == 1:\n",
    "        gestionar_estudiantes()\n",
    "    elif opcion == 2:\n",
    "        gestionar_materias()\n",
    "    elif opcion == 3:\n",
    "        gestionar_calificaciones()\n",
    "    elif opcion == 4:\n",
    "        gestionar_asistencia()\n",
    "    elif opcion == 5:\n",
    "        realizar_consultas()\n",
    "    elif opcion == 6:\n",
    "        print(\"Saliendo del programa\")\n",
    "        raise SystemExit(0)  # Manejar la excepción SystemExit para salir limpiamente\n",
    "\n",
    "def main():\n",
    "    while True:\n",
    "        mostrar_menu()\n",
    "        opcion = obtener_opcion()\n",
    "        ejecutar_opcion(opcion)\n",
    "\n",
    "if __name__ == \"__main__\":\n",
    "    try:\n",
    "        main()\n",
    "    except SystemExit as e:\n",
    "        if e.code != 0:\n",
    "            raise  # Re-raise cualquier excepción que no sea una salida limpia (código 0)"
   ]
  }
 ],
 "metadata": {
  "kernelspec": {
   "display_name": "Python 3",
   "language": "python",
   "name": "python3"
  },
  "language_info": {
   "codemirror_mode": {
    "name": "ipython",
    "version": 3
   },
   "file_extension": ".py",
   "mimetype": "text/x-python",
   "name": "python",
   "nbconvert_exporter": "python",
   "pygments_lexer": "ipython3",
   "version": "3.12.3"
  },
  "orig_nbformat": 4
 },
 "nbformat": 4,
 "nbformat_minor": 2
}
